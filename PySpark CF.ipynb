{
  "nbformat": 4,
  "nbformat_minor": 0,
  "metadata": {
    "application/vnd.databricks.v1+notebook": {
      "notebookName": "BDA PROJ",
      "dashboards": [],
      "notebookMetadata": {
        "pythonIndentUnit": 2
      },
      "language": "python",
      "widgets": {},
      "notebookOrigID": 3753029324522970
    },
    "colab": {
      "name": "BDA PROJ.ipynb",
      "provenance": [],
      "collapsed_sections": [
        "mSwK2I5irP-U",
        "YT5HcmbOrVin",
        "2hOlXWcrrwha"
      ]
    },
    "language_info": {
      "name": "python"
    },
    "kernelspec": {
      "name": "python3",
      "display_name": "Python 3"
    }
  },
  "cells": [
    {
      "cell_type": "code",
      "metadata": {
        "application/vnd.databricks.v1+cell": {
          "title": "",
          "showTitle": false,
          "inputWidgets": {},
          "nuid": "0b4d5753-e1b3-4ebc-bcee-a965bc554fbf"
        },
        "colab": {
          "base_uri": "https://localhost:8080/"
        },
        "id": "ccO7MgHvHntz",
        "outputId": "d4129c7a-ec3c-44ef-a086-c554819f18f5"
      },
      "source": [
        "pip install pyspark_dist_explore"
      ],
      "execution_count": 1,
      "outputs": [
        {
          "output_type": "stream",
          "name": "stdout",
          "text": [
            "Collecting pyspark_dist_explore\n",
            "  Downloading pyspark_dist_explore-0.1.8-py3-none-any.whl (7.2 kB)\n",
            "Requirement already satisfied: numpy in /usr/local/lib/python3.7/dist-packages (from pyspark_dist_explore) (1.19.5)\n",
            "Requirement already satisfied: pandas in /usr/local/lib/python3.7/dist-packages (from pyspark_dist_explore) (1.1.5)\n",
            "Requirement already satisfied: scipy in /usr/local/lib/python3.7/dist-packages (from pyspark_dist_explore) (1.4.1)\n",
            "Requirement already satisfied: matplotlib in /usr/local/lib/python3.7/dist-packages (from pyspark_dist_explore) (3.2.2)\n",
            "Requirement already satisfied: kiwisolver>=1.0.1 in /usr/local/lib/python3.7/dist-packages (from matplotlib->pyspark_dist_explore) (1.3.2)\n",
            "Requirement already satisfied: python-dateutil>=2.1 in /usr/local/lib/python3.7/dist-packages (from matplotlib->pyspark_dist_explore) (2.8.2)\n",
            "Requirement already satisfied: cycler>=0.10 in /usr/local/lib/python3.7/dist-packages (from matplotlib->pyspark_dist_explore) (0.11.0)\n",
            "Requirement already satisfied: pyparsing!=2.0.4,!=2.1.2,!=2.1.6,>=2.0.1 in /usr/local/lib/python3.7/dist-packages (from matplotlib->pyspark_dist_explore) (3.0.6)\n",
            "Requirement already satisfied: six>=1.5 in /usr/local/lib/python3.7/dist-packages (from python-dateutil>=2.1->matplotlib->pyspark_dist_explore) (1.15.0)\n",
            "Requirement already satisfied: pytz>=2017.2 in /usr/local/lib/python3.7/dist-packages (from pandas->pyspark_dist_explore) (2018.9)\n",
            "Installing collected packages: pyspark-dist-explore\n",
            "Successfully installed pyspark-dist-explore-0.1.8\n"
          ]
        }
      ]
    },
    {
      "cell_type": "code",
      "metadata": {
        "colab": {
          "base_uri": "https://localhost:8080/"
        },
        "id": "LHPYAFNEH3q1",
        "outputId": "260d6ef6-545b-4998-c77c-329ec20d50b5"
      },
      "source": [
        "pip install pyspark"
      ],
      "execution_count": 2,
      "outputs": [
        {
          "output_type": "stream",
          "name": "stdout",
          "text": [
            "Collecting pyspark\n",
            "  Downloading pyspark-3.2.0.tar.gz (281.3 MB)\n",
            "\u001b[K     |████████████████████████████████| 281.3 MB 41 kB/s \n",
            "\u001b[?25hCollecting py4j==0.10.9.2\n",
            "  Downloading py4j-0.10.9.2-py2.py3-none-any.whl (198 kB)\n",
            "\u001b[K     |████████████████████████████████| 198 kB 60.8 MB/s \n",
            "\u001b[?25hBuilding wheels for collected packages: pyspark\n",
            "  Building wheel for pyspark (setup.py) ... \u001b[?25l\u001b[?25hdone\n",
            "  Created wheel for pyspark: filename=pyspark-3.2.0-py2.py3-none-any.whl size=281805912 sha256=cedea35b20be21ad87be79c66d85a1b79021981c07cc09544af60653d18d851c\n",
            "  Stored in directory: /root/.cache/pip/wheels/0b/de/d2/9be5d59d7331c6c2a7c1b6d1a4f463ce107332b1ecd4e80718\n",
            "Successfully built pyspark\n",
            "Installing collected packages: py4j, pyspark\n",
            "Successfully installed py4j-0.10.9.2 pyspark-3.2.0\n"
          ]
        }
      ]
    },
    {
      "cell_type": "code",
      "metadata": {
        "application/vnd.databricks.v1+cell": {
          "title": "",
          "showTitle": false,
          "inputWidgets": {},
          "nuid": "48102010-7832-4855-ba50-17f61f6b2a2a"
        },
        "id": "N7QQ3JN5Hnt3"
      },
      "source": [
        "from pyspark.sql import SparkSession\n",
        "from pyspark.sql.types import StructType, StructField,StringType,IntegerType\n",
        "from pyspark.sql.functions import desc\n",
        "from pyspark.sql.functions import countDistinct\n",
        "from pyspark_dist_explore import hist\n",
        "import matplotlib.pyplot as plt\n",
        "from pyspark.sql import Row\n",
        "from pyspark.ml.recommendation import ALS\n",
        "from pyspark.ml.evaluation import RegressionEvaluator\n",
        "import numpy as np\n",
        "import pandas as pd"
      ],
      "execution_count": 28,
      "outputs": []
    },
    {
      "cell_type": "code",
      "metadata": {
        "application/vnd.databricks.v1+cell": {
          "title": "",
          "showTitle": false,
          "inputWidgets": {},
          "nuid": "d7a229d8-1402-41b4-99c4-5225da8962cc"
        },
        "id": "TiJJN87MHnt4"
      },
      "source": [
        "spark = SparkSession.builder.appName('BDA proj').getOrCreate()\n",
        "sc = spark.sparkContext\n",
        "\n",
        "schema = StructType([StructField('Animetitle', StringType(), True),\n",
        "                     StructField('Username', StringType(), True),\n",
        "                     StructField('Rating', IntegerType(), True)])"
      ],
      "execution_count": 4,
      "outputs": []
    },
    {
      "cell_type": "code",
      "metadata": {
        "application/vnd.databricks.v1+cell": {
          "title": "",
          "showTitle": false,
          "inputWidgets": {},
          "nuid": "bb14db98-8bec-48ff-9302-64269807524e"
        },
        "colab": {
          "base_uri": "https://localhost:8080/"
        },
        "id": "ZbsalR49Hnt5",
        "outputId": "b4a21e03-49a1-42bc-f027-1dbda4c20fe5"
      },
      "source": [
        "df = spark.read.csv('CF Data.csv',schema=schema,header=True)\n",
        "df.printSchema()"
      ],
      "execution_count": 5,
      "outputs": [
        {
          "output_type": "stream",
          "name": "stdout",
          "text": [
            "root\n",
            " |-- Animetitle: string (nullable = true)\n",
            " |-- Username: string (nullable = true)\n",
            " |-- Rating: integer (nullable = true)\n",
            "\n"
          ]
        }
      ]
    },
    {
      "cell_type": "code",
      "metadata": {
        "application/vnd.databricks.v1+cell": {
          "title": "",
          "showTitle": false,
          "inputWidgets": {},
          "nuid": "e5f7f558-10dc-4ba6-98bc-479f2022d519"
        },
        "id": "IDEqRI6zHnt6",
        "outputId": "d2e67374-d9b5-4519-d473-b58dc78c1cb4"
      },
      "source": [
        "df.describe().show()"
      ],
      "execution_count": null,
      "outputs": [
        {
          "output_type": "display_data",
          "metadata": {
            "application/vnd.databricks.v1+output": {
              "datasetInfos": [],
              "data": "+-------+--------------------+-----------+------------------+\n|summary|          Animetitle|   Username|            Rating|\n+-------+--------------------+-----------+------------------+\n|  count|               85877|      85877|             85877|\n|   mean|                null|   Infinity|7.4330146605028125|\n| stddev|                null|        NaN|2.1740434905761257|\n|    min|\"\"\"Bungaku Shoujo...|---was-----|                 1|\n|    max|   xxxHOLiC Shunmuki|   zzzjynne|                10|\n+-------+--------------------+-----------+------------------+\n\n",
              "removedWidgets": [],
              "addedWidgets": {},
              "metadata": {},
              "type": "ansi",
              "arguments": {}
            }
          },
          "data": {
            "text/plain": [
              "+-------+--------------------+-----------+------------------+\n|summary|          Animetitle|   Username|            Rating|\n+-------+--------------------+-----------+------------------+\n|  count|               85877|      85877|             85877|\n|   mean|                null|   Infinity|7.4330146605028125|\n| stddev|                null|        NaN|2.1740434905761257|\n|    min|\"\"\"Bungaku Shoujo...|---was-----|                 1|\n|    max|   xxxHOLiC Shunmuki|   zzzjynne|                10|\n+-------+--------------------+-----------+------------------+\n\n"
            ]
          },
          "transient": null
        }
      ]
    },
    {
      "cell_type": "markdown",
      "metadata": {
        "id": "mSwK2I5irP-U"
      },
      "source": [
        "#Data Pre-processing"
      ]
    },
    {
      "cell_type": "code",
      "metadata": {
        "application/vnd.databricks.v1+cell": {
          "title": "",
          "showTitle": false,
          "inputWidgets": {},
          "nuid": "2b85b865-8e69-4f14-9b35-5ed30ae32bee"
        },
        "id": "OR3zCgboHnt8"
      },
      "source": [
        "#drop missing value\n",
        "df=df.na.drop()"
      ],
      "execution_count": 6,
      "outputs": []
    },
    {
      "cell_type": "code",
      "metadata": {
        "application/vnd.databricks.v1+cell": {
          "title": "",
          "showTitle": false,
          "inputWidgets": {},
          "nuid": "df341047-613a-47ef-9eda-85a45206ca28"
        },
        "id": "bkMxIFhkHnt8",
        "outputId": "4fae099b-a0f9-4d80-dd3c-3ed28ba693ce"
      },
      "source": [
        "df.where(\"Animetitle is Null\").show()\n",
        "df.where(\"Username is Null\").show()\n",
        "df.where(\"Rating is Null\").show()\n",
        "#no missing value in the table"
      ],
      "execution_count": null,
      "outputs": [
        {
          "output_type": "display_data",
          "metadata": {
            "application/vnd.databricks.v1+output": {
              "datasetInfos": [],
              "data": "+----------+--------+------+\n|Animetitle|Username|Rating|\n+----------+--------+------+\n+----------+--------+------+\n\n+----------+--------+------+\n|Animetitle|Username|Rating|\n+----------+--------+------+\n+----------+--------+------+\n\n+----------+--------+------+\n|Animetitle|Username|Rating|\n+----------+--------+------+\n+----------+--------+------+\n\n",
              "removedWidgets": [],
              "addedWidgets": {},
              "metadata": {},
              "type": "ansi",
              "arguments": {}
            }
          },
          "data": {
            "text/plain": [
              "+----------+--------+------+\n|Animetitle|Username|Rating|\n+----------+--------+------+\n+----------+--------+------+\n\n+----------+--------+------+\n|Animetitle|Username|Rating|\n+----------+--------+------+\n+----------+--------+------+\n\n+----------+--------+------+\n|Animetitle|Username|Rating|\n+----------+--------+------+\n+----------+--------+------+\n\n"
            ]
          },
          "transient": null
        }
      ]
    },
    {
      "cell_type": "code",
      "metadata": {
        "application/vnd.databricks.v1+cell": {
          "title": "",
          "showTitle": false,
          "inputWidgets": {},
          "nuid": "937412b4-40b4-455e-872f-f90ab29e0a4b"
        },
        "id": "-vHB256hHnt9",
        "outputId": "81db7e5b-1b6c-459c-e23b-e4eba06e9744"
      },
      "source": [
        "df.groupBy(\"Animetitle\",'Username','Rating').count().filter(\"count > 1\").show()\n",
        "#dulicated values exist in the table"
      ],
      "execution_count": null,
      "outputs": [
        {
          "output_type": "display_data",
          "metadata": {
            "application/vnd.databricks.v1+output": {
              "datasetInfos": [],
              "data": "+--------------------+---------------+------+-----+\n|          Animetitle|       Username|Rating|count|\n+--------------------+---------------+------+-----+\n|Neon Genesis Evan...|      SNKFanboy|     1|    2|\n|     Kimi to Boku. 2|     Konomi1017|     8|    2|\n|   Acchi Kocchi (TV)|     Romie-chan|     7|    2|\n|Shingeki no Kyoji...|      PyraXadon|     7|    2|\n|Love Live! School...|    Micsupreeme|     7|    2|\n|Shingeki no Kyoji...|     LegendAqua|     9|    2|\n|JoJo no Kimyou na...|GodLikesMudkips|    10|    2|\n|Eizouken ni wa Te...|    Cloudflight|     8|    2|\n|     Detective Conan|     Meitanteii|     9|    2|\n|          Elfen Lied|Fear_the_Reefer|     5|    2|\n|Otome Game no Ham...|  SaintJames012|     7|    2|\n|       Munou na Nana|    MehMcBoored|     7|    2|\n|Baka to Test to S...|    sen_mcgrath|     8|    2|\n|    Kuroko no Basket|     AbsarNaeem|     9|    2|\n| Himouto! Umaru-chan|danny_dominguez|     3|    2|\n|Log Horizon 2nd S...|    Eagleshadow|     5|    2|\n|Baka to Test to S...|         gumvee|     9|    2|\n|          Death Note|           CF93|     9|    2|\n|            Baccano!|         Area51|     9|    2|\n|    Kuroko no Basket| ikasama-shoujo|     9|    2|\n+--------------------+---------------+------+-----+\n\n",
              "removedWidgets": [],
              "addedWidgets": {},
              "metadata": {},
              "type": "ansi",
              "arguments": {}
            }
          },
          "data": {
            "text/plain": [
              "+--------------------+---------------+------+-----+\n|          Animetitle|       Username|Rating|count|\n+--------------------+---------------+------+-----+\n|Neon Genesis Evan...|      SNKFanboy|     1|    2|\n|     Kimi to Boku. 2|     Konomi1017|     8|    2|\n|   Acchi Kocchi (TV)|     Romie-chan|     7|    2|\n|Shingeki no Kyoji...|      PyraXadon|     7|    2|\n|Love Live! School...|    Micsupreeme|     7|    2|\n|Shingeki no Kyoji...|     LegendAqua|     9|    2|\n|JoJo no Kimyou na...|GodLikesMudkips|    10|    2|\n|Eizouken ni wa Te...|    Cloudflight|     8|    2|\n|     Detective Conan|     Meitanteii|     9|    2|\n|          Elfen Lied|Fear_the_Reefer|     5|    2|\n|Otome Game no Ham...|  SaintJames012|     7|    2|\n|       Munou na Nana|    MehMcBoored|     7|    2|\n|Baka to Test to S...|    sen_mcgrath|     8|    2|\n|    Kuroko no Basket|     AbsarNaeem|     9|    2|\n| Himouto! Umaru-chan|danny_dominguez|     3|    2|\n|Log Horizon 2nd S...|    Eagleshadow|     5|    2|\n|Baka to Test to S...|         gumvee|     9|    2|\n|          Death Note|           CF93|     9|    2|\n|            Baccano!|         Area51|     9|    2|\n|    Kuroko no Basket| ikasama-shoujo|     9|    2|\n+--------------------+---------------+------+-----+\n\n"
            ]
          },
          "transient": null
        }
      ]
    },
    {
      "cell_type": "code",
      "metadata": {
        "application/vnd.databricks.v1+cell": {
          "title": "",
          "showTitle": false,
          "inputWidgets": {},
          "nuid": "b6172759-a5f1-440a-b954-6e5b9735ff1e"
        },
        "colab": {
          "base_uri": "https://localhost:8080/"
        },
        "id": "L9fKjNg-Hnt-",
        "outputId": "e9c7f324-b708-47ad-fa33-cec20dafc97f"
      },
      "source": [
        "df=df.dropDuplicates([\"Animetitle\",'Username','Rating'])\n",
        "df.groupBy(\"Animetitle\",'Username','Rating').count().filter(\"count > 1\").show()\n",
        "#delete all duplicated value in the table"
      ],
      "execution_count": 7,
      "outputs": [
        {
          "output_type": "stream",
          "name": "stdout",
          "text": [
            "+----------+--------+------+-----+\n",
            "|Animetitle|Username|Rating|count|\n",
            "+----------+--------+------+-----+\n",
            "+----------+--------+------+-----+\n",
            "\n"
          ]
        }
      ]
    },
    {
      "cell_type": "markdown",
      "metadata": {
        "id": "YT5HcmbOrVin"
      },
      "source": [
        "#Descriptive Analysis"
      ]
    },
    {
      "cell_type": "code",
      "metadata": {
        "application/vnd.databricks.v1+cell": {
          "title": "",
          "showTitle": false,
          "inputWidgets": {},
          "nuid": "5d0d4554-71e3-4239-b56c-ff60f3c71b87"
        },
        "id": "TXVj2ZT-Hnt-",
        "outputId": "0dd871bd-da7b-4647-eec1-0ec47b3227f1"
      },
      "source": [
        "#there are 4313 distinct animes, and most reviewed animes have 80 ratings\n",
        "#averagely each anime has 20 rating\n",
        "df.groupBy(\"Animetitle\").count().sort(desc(\"count\")).show(8)\n",
        "df.select(countDistinct(\"Animetitle\")).show()"
      ],
      "execution_count": null,
      "outputs": [
        {
          "output_type": "display_data",
          "metadata": {
            "application/vnd.databricks.v1+output": {
              "datasetInfos": [],
              "data": "+--------------------+-----+\n|          Animetitle|count|\n+--------------------+-----+\n|      Kimi no Na wa.|   80|\n|Rainbow: Nisha Ro...|   80|\n|Mahouka Koukou no...|   80|\n|       Steins;Gate 0|   80|\n|Kono Subarashii S...|   80|\n|Little Witch Acad...|   80|\n|         Golden Time|   80|\n|Love Live! School...|   80|\n+--------------------+-----+\nonly showing top 8 rows\n\n+--------------------------+\n|count(DISTINCT Animetitle)|\n+--------------------------+\n|                      4313|\n+--------------------------+\n\n",
              "removedWidgets": [],
              "addedWidgets": {},
              "metadata": {},
              "type": "ansi",
              "arguments": {}
            }
          },
          "data": {
            "text/plain": [
              "+--------------------+-----+\n|          Animetitle|count|\n+--------------------+-----+\n|      Kimi no Na wa.|   80|\n|Rainbow: Nisha Ro...|   80|\n|Mahouka Koukou no...|   80|\n|       Steins;Gate 0|   80|\n|Kono Subarashii S...|   80|\n|Little Witch Acad...|   80|\n|         Golden Time|   80|\n|Love Live! School...|   80|\n+--------------------+-----+\nonly showing top 8 rows\n\n+--------------------------+\n|count(DISTINCT Animetitle)|\n+--------------------------+\n|                      4313|\n+--------------------------+\n\n"
            ]
          },
          "transient": null
        }
      ]
    },
    {
      "cell_type": "code",
      "metadata": {
        "application/vnd.databricks.v1+cell": {
          "title": "",
          "showTitle": false,
          "inputWidgets": {},
          "nuid": "c3f73b60-7d7f-4d77-b939-4d503247c24c"
        },
        "id": "qmFcpRrLHnt_",
        "outputId": "a84263c2-af57-407f-ca3d-ea0cbb11a035"
      },
      "source": [
        "#there are 35091 distinct animes, and most review-giving users give 492 ratings\n",
        "#so if we use CF, it's a better choice to use item-based CF because item is far fewer than user  \n",
        "#on average each user give 2.3 rating\n",
        "#suspect most users only give 1 rating\n",
        "df.groupBy(\"Username\").count().sort(desc(\"count\")).show(8)\n",
        "df.select(countDistinct(\"Username\")).show()"
      ],
      "execution_count": null,
      "outputs": [
        {
          "output_type": "display_data",
          "metadata": {
            "application/vnd.databricks.v1+output": {
              "datasetInfos": [],
              "data": "+--------------+-----+\n|      Username|count|\n+--------------+-----+\n|      Stark700|  492|\n|      ktulu007|  399|\n|    LegendAqua|  322|\n|   ggultra2764|  298|\n|     PyraXadon|  248|\n|  BanjoTheBear|  234|\n|literaturenerd|  214|\n|  angelsreview|  177|\n+--------------+-----+\nonly showing top 8 rows\n\n+------------------------+\n|count(DISTINCT Username)|\n+------------------------+\n|                   35091|\n+------------------------+\n\n",
              "removedWidgets": [],
              "addedWidgets": {},
              "metadata": {},
              "type": "ansi",
              "arguments": {}
            }
          },
          "data": {
            "text/plain": [
              "+--------------+-----+\n|      Username|count|\n+--------------+-----+\n|      Stark700|  492|\n|      ktulu007|  399|\n|    LegendAqua|  322|\n|   ggultra2764|  298|\n|     PyraXadon|  248|\n|  BanjoTheBear|  234|\n|literaturenerd|  214|\n|  angelsreview|  177|\n+--------------+-----+\nonly showing top 8 rows\n\n+------------------------+\n|count(DISTINCT Username)|\n+------------------------+\n|                   35091|\n+------------------------+\n\n"
            ]
          },
          "transient": null
        }
      ]
    },
    {
      "cell_type": "code",
      "metadata": {
        "application/vnd.databricks.v1+cell": {
          "title": "",
          "showTitle": false,
          "inputWidgets": {},
          "nuid": "bc68843e-36f4-41eb-95c9-a3213c4a8499"
        },
        "id": "btTKM1P9Hnt_",
        "outputId": "a8c2dabf-2668-48ec-b72e-455887dd29e9"
      },
      "source": [
        "#rating range is 1-10, the most given rating is 8, mean is 7.4\n",
        "df.groupBy(\"Rating\").count().sort(desc(\"count\")).show()\n",
        "df.select(countDistinct(\"Rating\")).show()"
      ],
      "execution_count": null,
      "outputs": [
        {
          "output_type": "display_data",
          "metadata": {
            "application/vnd.databricks.v1+output": {
              "datasetInfos": [],
              "data": "+------+-----+\n|Rating|count|\n+------+-----+\n|     8|17313|\n|     9|16911|\n|    10|15049|\n|     7|13087|\n|     6| 8023|\n|     5| 5563|\n|     4| 3710|\n|     3| 3403|\n|     2| 1577|\n|     1| 1221|\n+------+-----+\n\n+----------------------+\n|count(DISTINCT Rating)|\n+----------------------+\n|                    10|\n+----------------------+\n\n",
              "removedWidgets": [],
              "addedWidgets": {},
              "metadata": {},
              "type": "ansi",
              "arguments": {}
            }
          },
          "data": {
            "text/plain": [
              "+------+-----+\n|Rating|count|\n+------+-----+\n|     8|17313|\n|     9|16911|\n|    10|15049|\n|     7|13087|\n|     6| 8023|\n|     5| 5563|\n|     4| 3710|\n|     3| 3403|\n|     2| 1577|\n|     1| 1221|\n+------+-----+\n\n+----------------------+\n|count(DISTINCT Rating)|\n+----------------------+\n|                    10|\n+----------------------+\n\n"
            ]
          },
          "transient": null
        }
      ]
    },
    {
      "cell_type": "code",
      "metadata": {
        "application/vnd.databricks.v1+cell": {
          "title": "",
          "showTitle": false,
          "inputWidgets": {},
          "nuid": "6d3ada90-de47-41ac-800f-de41034a99a8"
        },
        "id": "mwpaEsZMHnt_",
        "colab": {
          "base_uri": "https://localhost:8080/",
          "height": 337
        },
        "outputId": "370fa0fe-a1d3-48b8-d2a0-19641aae9541"
      },
      "source": [
        "#see distribution of rating\n",
        "#left skewed distribution with more higher rating\n",
        "fig, ax = plt.subplots()\n",
        "fig.set_size_inches(8, 5) \n",
        "hist(ax, df.select('Rating'), color=['green'])\n",
        "ax.legend()"
      ],
      "execution_count": 8,
      "outputs": [
        {
          "output_type": "execute_result",
          "data": {
            "text/plain": [
              "<matplotlib.legend.Legend at 0x7fe1530285d0>"
            ]
          },
          "metadata": {},
          "execution_count": 8
        },
        {
          "output_type": "display_data",
          "data": {
            "image/png": "[encoded data removed]",
            "text/plain": [
              "<Figure size 576x360 with 1 Axes>"
            ]
          },
          "metadata": {
            "needs_background": "light"
          }
        }
      ]
    },
    {
      "cell_type": "markdown",
      "metadata": {
        "id": "2hOlXWcrrwha"
      },
      "source": [
        "#Subsample data"
      ]
    },
    {
      "cell_type": "code",
      "metadata": {
        "application/vnd.databricks.v1+cell": {
          "title": "",
          "showTitle": false,
          "inputWidgets": {},
          "nuid": "b2306b8f-ee23-48dc-9faa-61b403fbbfb1"
        },
        "colab": {
          "base_uri": "https://localhost:8080/"
        },
        "id": "vAAHQmMqHnt_",
        "outputId": "6d5befc3-38f5-4fb2-81ad-02eeacb5dca3"
      },
      "source": [
        "#data fill rate is 0.056%,data sparsity is high\n",
        "#try to use subsample to filter out only the popular anime and active user\n",
        "df.createOrReplaceTempView(\"df_filtered\")\n",
        "df1=spark.sql(\"\"\"select * from df_filtered where Animetitle in (select Animetitle from df_filtered group By Animetitle having count(*)>4)\"\"\")\n",
        "#df1.select(countDistinct(\"Animetitle\")).show()\n",
        "df1.show()"
      ],
      "execution_count": null,
      "outputs": [
        {
          "output_type": "stream",
          "name": "stdout",
          "text": [
            "+--------------------+----------------+------+\n",
            "|          Animetitle|        Username|Rating|\n",
            "+--------------------+----------------+------+\n",
            "|Hai to Gensou no ...|    netosolano98|     8|\n",
            "|Hai to Gensou no ...|   mikomi_nakama|     4|\n",
            "|           Working!!|     BentoLegend|     8|\n",
            "|  Tsurezure Children|    SirMarmelady|     4|\n",
            "|  Aria the Animation|      XanWasting|     5|\n",
            "|       Fruits Basket|     101swoop101|    10|\n",
            "|       Fruits Basket|    angelsreview|     6|\n",
            "|Kenpuu Denki Berserk|            jdbe|    10|\n",
            "|     Mousou Dairinin|      HiGHFLYiN9|    10|\n",
            "|            Nichijou|       myronator|     8|\n",
            "|Sword Art Online ...|        Kyojin-x|     9|\n",
            "|      Urusei Yatsura|middleground4471|    10|\n",
            "|Break Blade 1: Ka...|        mel-hime|    10|\n",
            "|Naruto: Shippuude...|       ao_no_exo|    10|\n",
            "| AKB0048: Next Stage| DevilishAngel86|     7|\n",
            "|              Blood+|Okazaki-Fragment|    10|\n",
            "|              Blood+|          itaeon|     9|\n",
            "|Cardcaptor Sakura...|     PokeFan2112|     7|\n",
            "|       Chrno Crusade|        VoidHawk|     5|\n",
            "|       Chrno Crusade|     crescent917|    10|\n",
            "+--------------------+----------------+------+\n",
            "only showing top 20 rows\n",
            "\n"
          ]
        }
      ]
    },
    {
      "cell_type": "code",
      "metadata": {
        "application/vnd.databricks.v1+cell": {
          "title": "",
          "showTitle": false,
          "inputWidgets": {},
          "nuid": "e5f1e2a8-fc7e-4f9e-8107-c2359006d8dd"
        },
        "colab": {
          "base_uri": "https://localhost:8080/"
        },
        "id": "tnQNxoVQHnuA",
        "outputId": "328a85c1-1ed5-48eb-ea82-e37f38ba0c5e"
      },
      "source": [
        "df1.createOrReplaceTempView(\"df_filtered1\")\n",
        "df2=spark.sql(\"\"\"select * from df_filtered1 where Username in (select Username from df_filtered1 group By Username having count(*)>4)\"\"\")\n",
        "df2.select(countDistinct(\"Username\")).show()\n",
        "df2.select(countDistinct(\"Animetitle\")).show()"
      ],
      "execution_count": null,
      "outputs": [
        {
          "output_type": "stream",
          "name": "stdout",
          "text": [
            "+------------------------+\n",
            "|count(DISTINCT Username)|\n",
            "+------------------------+\n",
            "|                    3038|\n",
            "+------------------------+\n",
            "\n",
            "+--------------------------+\n",
            "|count(DISTINCT Animetitle)|\n",
            "+--------------------------+\n",
            "|                      2626|\n",
            "+--------------------------+\n",
            "\n"
          ]
        }
      ]
    },
    {
      "cell_type": "code",
      "metadata": {
        "id": "oqOyFKxxqgml"
      },
      "source": [
        "#we meet some problems when trying to use df2 to build model\n",
        "#so we choose another way: convert to dataframe then select\n",
        "df=df.toPandas()"
      ],
      "execution_count": 9,
      "outputs": []
    },
    {
      "cell_type": "code",
      "metadata": {
        "id": "UHD7GIneqp93"
      },
      "source": [
        "popular_items = df['Animetitle'].value_counts()>4\n",
        "popular_items = popular_items[popular_items].index.tolist()\n",
        "active_users = df['Username'].value_counts() >4\n",
        "active_users = active_users[active_users].index.tolist() # get list of active users\n",
        "df = df[(df['Animetitle'].isin(popular_items)) & (df['Username'].isin(active_users))]"
      ],
      "execution_count": 10,
      "outputs": []
    },
    {
      "cell_type": "code",
      "metadata": {
        "colab": {
          "base_uri": "https://localhost:8080/"
        },
        "id": "zujGfOHYsIPz",
        "outputId": "6027395e-6abd-4e88-95d6-eb2a91779054"
      },
      "source": [
        "df['Animetitle'].nunique()"
      ],
      "execution_count": null,
      "outputs": [
        {
          "output_type": "execute_result",
          "data": {
            "text/plain": [
              "2031"
            ]
          },
          "metadata": {},
          "execution_count": 17
        }
      ]
    },
    {
      "cell_type": "code",
      "metadata": {
        "colab": {
          "base_uri": "https://localhost:8080/"
        },
        "id": "hRsufSa7sUQS",
        "outputId": "303af7dd-ad8e-4612-87fb-5d5d9da3870e"
      },
      "source": [
        "df['Username'].nunique()"
      ],
      "execution_count": null,
      "outputs": [
        {
          "output_type": "execute_result",
          "data": {
            "text/plain": [
              "3038"
            ]
          },
          "metadata": {},
          "execution_count": 20
        }
      ]
    },
    {
      "cell_type": "code",
      "metadata": {
        "id": "Vj7cwqecs_qG"
      },
      "source": [
        "df2 = spark.createDataFrame(df)"
      ],
      "execution_count": 11,
      "outputs": []
    },
    {
      "cell_type": "code",
      "metadata": {
        "application/vnd.databricks.v1+cell": {
          "title": "",
          "showTitle": false,
          "inputWidgets": {},
          "nuid": "fd8fbfc1-1577-4c6f-9433-0a80f388020e"
        },
        "colab": {
          "base_uri": "https://localhost:8080/"
        },
        "id": "bJOlkUXtHnuA",
        "outputId": "6d1cbdab-4024-4fc6-8f1b-405766e3e57d"
      },
      "source": [
        "df2.describe().show()"
      ],
      "execution_count": null,
      "outputs": [
        {
          "output_type": "stream",
          "name": "stdout",
          "text": [
            "+-------+--------------------+--------+------------------+\n",
            "|summary|          Animetitle|Username|            Rating|\n",
            "+-------+--------------------+--------+------------------+\n",
            "|  count|               36031|   36031|             36031|\n",
            "|   mean|                null|Infinity| 7.293247481335516|\n",
            "| stddev|                null|     NaN|2.0662732324436694|\n",
            "|    min|\"\"\"Bungaku Shoujo...| -Elina-|                 1|\n",
            "|    max|        xxxHOLiC Kei|   zztl9|                10|\n",
            "+-------+--------------------+--------+------------------+\n",
            "\n"
          ]
        }
      ]
    },
    {
      "cell_type": "markdown",
      "metadata": {
        "id": "zG01fXvZrhD8"
      },
      "source": [
        "#Building recommender system using pyspark MF and ALS method"
      ]
    },
    {
      "cell_type": "code",
      "metadata": {
        "application/vnd.databricks.v1+cell": {
          "title": "",
          "showTitle": false,
          "inputWidgets": {},
          "nuid": "b7faf4c4-7d62-456a-84bc-fa7cfed82910"
        },
        "colab": {
          "base_uri": "https://localhost:8080/"
        },
        "id": "JP0CvuOYHnuA",
        "outputId": "2f8333bf-ee2c-46e7-df75-076fd0c60bdd"
      },
      "source": [
        "#we need to convert userid and itemid to numeric to facilitate matrix indexing.\n",
        "userids = np.sort([x.Username for x in df2.select(\"Username\").distinct().collect()])\n",
        "userid_encode = {x: i for i, x in enumerate(userids)}\n",
        "itemids = np.sort([x.Animetitle for x in df2.select(\"Animetitle\").distinct().collect()])\n",
        "itemid_encode = {x: i for i, x in enumerate(itemids)}\n",
        "print(len(userids), len(itemids))"
      ],
      "execution_count": 12,
      "outputs": [
        {
          "output_type": "stream",
          "name": "stdout",
          "text": [
            "3163 2629\n"
          ]
        }
      ]
    },
    {
      "cell_type": "code",
      "metadata": {
        "application/vnd.databricks.v1+cell": {
          "title": "",
          "showTitle": false,
          "inputWidgets": {},
          "nuid": "a2fd3ab5-cae5-4c61-9a97-9fae9bc5d3f8"
        },
        "colab": {
          "base_uri": "https://localhost:8080/"
        },
        "id": "XlY_8IRIHnuB",
        "outputId": "9e53c49a-9e6e-4500-f85d-b3f4faa7dd51"
      },
      "source": [
        "newcolnames = ['itemid','userid','rating']\n",
        "rdd=df2.rdd.map(lambda x: (itemid_encode[x[0]],userid_encode[x[1]],float(x[2])))\n",
        "df3 = rdd.toDF()\n",
        "for c,n in zip(df3.columns,newcolnames):\n",
        "    df3=df3.withColumnRenamed(c,n)\n",
        "df3.show(10)"
      ],
      "execution_count": 13,
      "outputs": [
        {
          "output_type": "stream",
          "name": "stdout",
          "text": [
            "+------+------+------+\n",
            "|itemid|userid|rating|\n",
            "+------+------+------+\n",
            "|   824|  2785|   8.0|\n",
            "|  2510|   262|   8.0|\n",
            "|  2423|  1740|   4.0|\n",
            "|   149|  2090|   5.0|\n",
            "|   653|    17|  10.0|\n",
            "|   653|  2214|   6.0|\n",
            "|  1189|  2574|  10.0|\n",
            "|  1603|   785|  10.0|\n",
            "|  1691|  2769|   8.0|\n",
            "|  2268|  1024|   9.0|\n",
            "+------+------+------+\n",
            "only showing top 10 rows\n",
            "\n"
          ]
        }
      ]
    },
    {
      "cell_type": "code",
      "metadata": {
        "application/vnd.databricks.v1+cell": {
          "title": "",
          "showTitle": false,
          "inputWidgets": {},
          "nuid": "896d8056-914c-4f16-82c0-a0885c92d0b2"
        },
        "colab": {
          "base_uri": "https://localhost:8080/"
        },
        "id": "HTV9rTgCHnuB",
        "outputId": "ee513693-01fc-4a99-dd5f-20cdedb89554"
      },
      "source": [
        "# split data into training and test sets \n",
        "(training, test) = df3.randomSplit([0.8, 0.2])\n",
        "print(\"trainset=\",training.count(), \"test set=\", test.count())"
      ],
      "execution_count": 20,
      "outputs": [
        {
          "output_type": "stream",
          "name": "stdout",
          "text": [
            "trainset= 30562 test set= 7616\n"
          ]
        }
      ]
    },
    {
      "cell_type": "code",
      "metadata": {
        "application/vnd.databricks.v1+cell": {
          "title": "",
          "showTitle": false,
          "inputWidgets": {},
          "nuid": "ff7177b3-927e-44d6-b2ab-5549a465be25"
        },
        "id": "0-vjeb1eHnuB"
      },
      "source": [
        "als = ALS(maxIter=20, rank=15, regParam=0.01, userCol=\"userid\", itemCol=\"itemid\", ratingCol=\"rating\", coldStartStrategy=\"drop\", implicitPrefs=False)\n",
        "model = als.fit(training)"
      ],
      "execution_count": 21,
      "outputs": []
    },
    {
      "cell_type": "code",
      "metadata": {
        "application/vnd.databricks.v1+cell": {
          "title": "",
          "showTitle": false,
          "inputWidgets": {},
          "nuid": "0efb01df-3b7d-49c8-8c73-c2ce3248b7c9"
        },
        "colab": {
          "base_uri": "https://localhost:8080/"
        },
        "id": "pP4-aAeSHnuB",
        "outputId": "975ad52c-e0e8-48da-9685-630902c32c70"
      },
      "source": [
        "# Evaluate the model by computing the MAE (or RMSE) on the test data\n",
        "# (try comparing the performance treating the data as explicit ratings versus implicit ratings)\n",
        "predictions = model.transform(test)\n",
        "evaluator = RegressionEvaluator(metricName=\"mae\", labelCol=\"rating\", predictionCol=\"prediction\")\n",
        "error = evaluator.evaluate(predictions)\n",
        "print(\"Mean Absolute error = \", error)\n",
        "#for rating range 1-10, before subsample,MAE is 3.24\n",
        "#after subsample,MAE drop to 2.53"
      ],
      "execution_count": 22,
      "outputs": [
        {
          "output_type": "stream",
          "name": "stdout",
          "text": [
            "Mean Absolute error =  2.6861181715947526\n"
          ]
        }
      ]
    },
    {
      "cell_type": "code",
      "metadata": {
        "application/vnd.databricks.v1+cell": {
          "title": "",
          "showTitle": false,
          "inputWidgets": {},
          "nuid": "bc35dc14-8a6e-4f9d-bbf5-996bf39b3b9d"
        },
        "colab": {
          "base_uri": "https://localhost:8080/"
        },
        "id": "kGqG2V3XHnuC",
        "outputId": "a79a91ce-2569-4bdc-c06d-609af6b34272"
      },
      "source": [
        "# Generate top 2 Anime recommendations for each user\n",
        "userRecs = model.recommendForAllUsers(3)\n",
        "userRecs.show(10)\n",
        "# Generate top 2 user recommendations for each anime\n",
        "animeRecs = model.recommendForAllItems(2)\n",
        "animeRecs.show(10)"
      ],
      "execution_count": 34,
      "outputs": [
        {
          "output_type": "stream",
          "name": "stderr",
          "text": [
            "/usr/local/lib/python3.7/dist-packages/pyspark/sql/context.py:127: FutureWarning: Deprecated in 3.0.0. Use SparkSession.builder.getOrCreate() instead.\n",
            "  FutureWarning\n"
          ]
        },
        {
          "output_type": "stream",
          "name": "stdout",
          "text": [
            "+------+--------------------+\n",
            "|userid|     recommendations|\n",
            "+------+--------------------+\n",
            "|     1|[{2208, 14.131914...|\n",
            "|     3|[{2480, 13.295465...|\n",
            "|     5|[{1312, 10.001163...|\n",
            "|     6|[{1332, 11.792203...|\n",
            "|     9|[{2595, 11.671766...|\n",
            "|    12|[{2159, 12.262802...|\n",
            "|    13|[{1066, 12.869434...|\n",
            "|    15|[{761, 11.348384}...|\n",
            "|    16|[{537, 11.058506}...|\n",
            "|    17|[{415, 11.539774}...|\n",
            "+------+--------------------+\n",
            "only showing top 10 rows\n",
            "\n",
            "+------+--------------------+\n",
            "|itemid|     recommendations|\n",
            "+------+--------------------+\n",
            "|     1|[{3037, 12.503757...|\n",
            "|     3|[{2364, 11.429666...|\n",
            "|     5|[{1759, 13.230789...|\n",
            "|     6|[{2598, 9.988437}...|\n",
            "|     9|[{2828, 8.013608}...|\n",
            "|    12|[{2075, 12.921648...|\n",
            "|    13|[{2598, 9.847462}...|\n",
            "|    15|[{1722, 8.9886265...|\n",
            "|    16|[{2973, 16.178156...|\n",
            "|    17|[{2973, 15.296373...|\n",
            "+------+--------------------+\n",
            "only showing top 10 rows\n",
            "\n"
          ]
        }
      ]
    },
    {
      "cell_type": "code",
      "metadata": {
        "application/vnd.databricks.v1+cell": {
          "title": "",
          "showTitle": false,
          "inputWidgets": {},
          "nuid": "a1e86ab8-63d5-4d66-bc7e-cd8a612dd1c4"
        },
        "id": "K6LtT1V8HnuC",
        "colab": {
          "base_uri": "https://localhost:8080/"
        },
        "outputId": "e8c5448c-feda-4f67-f448-c68c8e375798"
      },
      "source": [
        "#for a specific user show the recommendations\n",
        "userRecs.select('Userid','recommendations').where('userid=888').show(truncate=False)"
      ],
      "execution_count": 35,
      "outputs": [
        {
          "output_type": "stream",
          "name": "stdout",
          "text": [
            "+------+-------------------------------------------------------+\n",
            "|Userid|recommendations                                        |\n",
            "+------+-------------------------------------------------------+\n",
            "|888   |[{2310, 13.370332}, {393, 11.19603}, {1848, 11.014552}]|\n",
            "+------+-------------------------------------------------------+\n",
            "\n"
          ]
        }
      ]
    },
    {
      "cell_type": "code",
      "metadata": {
        "application/vnd.databricks.v1+cell": {
          "title": "",
          "showTitle": false,
          "inputWidgets": {},
          "nuid": "709f0a5f-896f-43d9-a2b4-8f9e7f55b7fb"
        },
        "id": "sZ2NS4e6HnuC",
        "colab": {
          "base_uri": "https://localhost:8080/"
        },
        "outputId": "4691fddc-5630-4b25-89f5-62f1e5b17789"
      },
      "source": [
        "#for a specific item show the likely users\n",
        "animeRecs.select('itemid','recommendations').where('itemid=666').show(truncate=False)"
      ],
      "execution_count": 25,
      "outputs": [
        {
          "output_type": "stream",
          "name": "stdout",
          "text": [
            "+------+--------------------------------------+\n",
            "|itemid|recommendations                       |\n",
            "+------+--------------------------------------+\n",
            "|666   |[{1291, 13.215325}, {1778, 12.832084}]|\n",
            "+------+--------------------------------------+\n",
            "\n"
          ]
        }
      ]
    },
    {
      "cell_type": "code",
      "metadata": {
        "application/vnd.databricks.v1+cell": {
          "title": "",
          "showTitle": false,
          "inputWidgets": {},
          "nuid": "1882aaf5-f5ec-45c0-80dc-11a6ea742bbc"
        },
        "id": "Swlw9H1xHnuC"
      },
      "source": [
        "def searchKeysByVal(dict, byVal):\n",
        "    keysList = []\n",
        "    itemsList = dict.items()\n",
        "    for item in itemsList:\n",
        "        if item[1] == byVal:\n",
        "            keysList.append(item[0])\n",
        "    return keysList"
      ],
      "execution_count": 26,
      "outputs": []
    },
    {
      "cell_type": "code",
      "metadata": {
        "colab": {
          "base_uri": "https://localhost:8080/",
          "height": 141
        },
        "id": "rb_xFlNou4pz",
        "outputId": "2b7136b4-734a-445b-edbc-7cc8603d3d72"
      },
      "source": [
        "user='Stark700'\n",
        "result=pd.DataFrame(columns=['userid','username','Anime_recommend'])\n",
        "for i in range(3):\n",
        "  aa=userRecs.select('recommendations').where('userid=1800').collect()[0][0][i][0]\n",
        "  result.loc[i,'Anime_recommend']=searchKeysByVal(itemid_encode, aa)\n",
        "result.loc[:,'username']=user\n",
        "result.loc[:,'userid']=userid_encode[user]\n",
        "result"
      ],
      "execution_count": 40,
      "outputs": [
        {
          "output_type": "execute_result",
          "data": {
            "text/html": [
              "<div>\n",
              "<style scoped>\n",
              "    .dataframe tbody tr th:only-of-type {\n",
              "        vertical-align: middle;\n",
              "    }\n",
              "\n",
              "    .dataframe tbody tr th {\n",
              "        vertical-align: top;\n",
              "    }\n",
              "\n",
              "    .dataframe thead th {\n",
              "        text-align: right;\n",
              "    }\n",
              "</style>\n",
              "<table border=\"1\" class=\"dataframe\">\n",
              "  <thead>\n",
              "    <tr style=\"text-align: right;\">\n",
              "      <th></th>\n",
              "      <th>userid</th>\n",
              "      <th>username</th>\n",
              "      <th>Anime_recommend</th>\n",
              "    </tr>\n",
              "  </thead>\n",
              "  <tbody>\n",
              "    <tr>\n",
              "      <th>0</th>\n",
              "      <td>1800</td>\n",
              "      <td>Stark700</td>\n",
              "      <td>[Shouwa Genroku Rakugo Shinjuu: Sukeroku Futat...</td>\n",
              "    </tr>\n",
              "    <tr>\n",
              "      <th>1</th>\n",
              "      <td>1800</td>\n",
              "      <td>Stark700</td>\n",
              "      <td>[Doukyuusei (Movie)]</td>\n",
              "    </tr>\n",
              "    <tr>\n",
              "      <th>2</th>\n",
              "      <td>1800</td>\n",
              "      <td>Stark700</td>\n",
              "      <td>[Kaguya-sama wa Kokurasetai: Tensai-tachi no R...</td>\n",
              "    </tr>\n",
              "  </tbody>\n",
              "</table>\n",
              "</div>"
            ],
            "text/plain": [
              "   userid  username                                    Anime_recommend\n",
              "0    1800  Stark700  [Shouwa Genroku Rakugo Shinjuu: Sukeroku Futat...\n",
              "1    1800  Stark700                               [Doukyuusei (Movie)]\n",
              "2    1800  Stark700  [Kaguya-sama wa Kokurasetai: Tensai-tachi no R..."
            ]
          },
          "metadata": {},
          "execution_count": 40
        }
      ]
    }
  ]
}